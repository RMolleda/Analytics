{
 "cells": [
  {
   "cell_type": "markdown",
   "metadata": {},
   "source": [
    "# Ex1 - Filtering and Sorting Data"
   ]
  },
  {
   "cell_type": "markdown",
   "metadata": {},
   "source": [
    "### Step 1. Import the necessary libraries"
   ]
  },
  {
   "cell_type": "code",
   "execution_count": 101,
   "metadata": {
    "collapsed": false
   },
   "outputs": [],
   "source": [
    "import pandas as pd"
   ]
  },
  {
   "cell_type": "markdown",
   "metadata": {},
   "source": [
    "### Step 2. Import the dataset from this [address](https://raw.githubusercontent.com/justmarkham/DAT8/master/data/chipotle.tsv). "
   ]
  },
  {
   "cell_type": "markdown",
   "metadata": {},
   "source": [
    "### Step 3. Assign it to a variable called chipo."
   ]
  },
  {
   "cell_type": "code",
   "execution_count": 102,
   "metadata": {
    "collapsed": false
   },
   "outputs": [
    {
     "output_type": "execute_result",
     "data": {
      "text/plain": [
       "      order_id  quantity                              item_name  \\\n",
       "0            1         1           Chips and Fresh Tomato Salsa   \n",
       "1            1         1                                   Izze   \n",
       "2            1         1                       Nantucket Nectar   \n",
       "3            1         1  Chips and Tomatillo-Green Chili Salsa   \n",
       "4            2         2                           Chicken Bowl   \n",
       "...        ...       ...                                    ...   \n",
       "4617      1833         1                          Steak Burrito   \n",
       "4618      1833         1                          Steak Burrito   \n",
       "4619      1834         1                     Chicken Salad Bowl   \n",
       "4620      1834         1                     Chicken Salad Bowl   \n",
       "4621      1834         1                     Chicken Salad Bowl   \n",
       "\n",
       "                                     choice_description item_price  \n",
       "0                                                   NaN     $2.39   \n",
       "1                                          [Clementine]     $3.39   \n",
       "2                                               [Apple]     $3.39   \n",
       "3                                                   NaN     $2.39   \n",
       "4     [Tomatillo-Red Chili Salsa (Hot), [Black Beans...    $16.98   \n",
       "...                                                 ...        ...  \n",
       "4617  [Fresh Tomato Salsa, [Rice, Black Beans, Sour ...    $11.75   \n",
       "4618  [Fresh Tomato Salsa, [Rice, Sour Cream, Cheese...    $11.75   \n",
       "4619  [Fresh Tomato Salsa, [Fajita Vegetables, Pinto...    $11.25   \n",
       "4620  [Fresh Tomato Salsa, [Fajita Vegetables, Lettu...     $8.75   \n",
       "4621  [Fresh Tomato Salsa, [Fajita Vegetables, Pinto...     $8.75   \n",
       "\n",
       "[4622 rows x 5 columns]"
      ],
      "text/html": "<div>\n<style scoped>\n    .dataframe tbody tr th:only-of-type {\n        vertical-align: middle;\n    }\n\n    .dataframe tbody tr th {\n        vertical-align: top;\n    }\n\n    .dataframe thead th {\n        text-align: right;\n    }\n</style>\n<table border=\"1\" class=\"dataframe\">\n  <thead>\n    <tr style=\"text-align: right;\">\n      <th></th>\n      <th>order_id</th>\n      <th>quantity</th>\n      <th>item_name</th>\n      <th>choice_description</th>\n      <th>item_price</th>\n    </tr>\n  </thead>\n  <tbody>\n    <tr>\n      <th>0</th>\n      <td>1</td>\n      <td>1</td>\n      <td>Chips and Fresh Tomato Salsa</td>\n      <td>NaN</td>\n      <td>$2.39</td>\n    </tr>\n    <tr>\n      <th>1</th>\n      <td>1</td>\n      <td>1</td>\n      <td>Izze</td>\n      <td>[Clementine]</td>\n      <td>$3.39</td>\n    </tr>\n    <tr>\n      <th>2</th>\n      <td>1</td>\n      <td>1</td>\n      <td>Nantucket Nectar</td>\n      <td>[Apple]</td>\n      <td>$3.39</td>\n    </tr>\n    <tr>\n      <th>3</th>\n      <td>1</td>\n      <td>1</td>\n      <td>Chips and Tomatillo-Green Chili Salsa</td>\n      <td>NaN</td>\n      <td>$2.39</td>\n    </tr>\n    <tr>\n      <th>4</th>\n      <td>2</td>\n      <td>2</td>\n      <td>Chicken Bowl</td>\n      <td>[Tomatillo-Red Chili Salsa (Hot), [Black Beans...</td>\n      <td>$16.98</td>\n    </tr>\n    <tr>\n      <th>...</th>\n      <td>...</td>\n      <td>...</td>\n      <td>...</td>\n      <td>...</td>\n      <td>...</td>\n    </tr>\n    <tr>\n      <th>4617</th>\n      <td>1833</td>\n      <td>1</td>\n      <td>Steak Burrito</td>\n      <td>[Fresh Tomato Salsa, [Rice, Black Beans, Sour ...</td>\n      <td>$11.75</td>\n    </tr>\n    <tr>\n      <th>4618</th>\n      <td>1833</td>\n      <td>1</td>\n      <td>Steak Burrito</td>\n      <td>[Fresh Tomato Salsa, [Rice, Sour Cream, Cheese...</td>\n      <td>$11.75</td>\n    </tr>\n    <tr>\n      <th>4619</th>\n      <td>1834</td>\n      <td>1</td>\n      <td>Chicken Salad Bowl</td>\n      <td>[Fresh Tomato Salsa, [Fajita Vegetables, Pinto...</td>\n      <td>$11.25</td>\n    </tr>\n    <tr>\n      <th>4620</th>\n      <td>1834</td>\n      <td>1</td>\n      <td>Chicken Salad Bowl</td>\n      <td>[Fresh Tomato Salsa, [Fajita Vegetables, Lettu...</td>\n      <td>$8.75</td>\n    </tr>\n    <tr>\n      <th>4621</th>\n      <td>1834</td>\n      <td>1</td>\n      <td>Chicken Salad Bowl</td>\n      <td>[Fresh Tomato Salsa, [Fajita Vegetables, Pinto...</td>\n      <td>$8.75</td>\n    </tr>\n  </tbody>\n</table>\n<p>4622 rows × 5 columns</p>\n</div>"
     },
     "metadata": {},
     "execution_count": 102
    }
   ],
   "source": [
    "chipo = pd.read_csv(\"https://raw.githubusercontent.com/justmarkham/DAT8/master/data/chipotle.tsv\", delimiter=\"\\t\")\n",
    "chipo"
   ]
  },
  {
   "cell_type": "code",
   "execution_count": 99,
   "metadata": {},
   "outputs": [
    {
     "output_type": "execute_result",
     "data": {
      "text/plain": [
       "order_id                             1\n",
       "quantity                             1\n",
       "item_name             Nantucket Nectar\n",
       "choice_description             [Apple]\n",
       "item_price                      $3.39 \n",
       "Name: 2, dtype: object"
      ]
     },
     "metadata": {},
     "execution_count": 99
    }
   ],
   "source": []
  },
  {
   "cell_type": "markdown",
   "metadata": {},
   "source": [
    "### Step 4. How many products cost more than $10.00?"
   ]
  },
  {
   "cell_type": "code",
   "execution_count": 112,
   "metadata": {},
   "outputs": [
    {
     "output_type": "execute_result",
     "data": {
      "text/plain": [
       "4509     1.99\n",
       "2235     4.36\n",
       "2944     5.07\n",
       "2936     6.45\n",
       "2441     7.50\n",
       "3040     7.98\n",
       "3599    10.50\n",
       "4510    11.49\n",
       "1257    11.80\n",
       "3389    12.98\n",
       "2645    13.35\n",
       "3887    13.52\n",
       "4152    15.00\n",
       "3823    16.38\n",
       "4489    17.80\n",
       "445     22.20\n",
       "2954    22.96\n",
       "3334    26.07\n",
       "409     32.94\n",
       "3601    33.75\n",
       "3480    35.25\n",
       "3598    44.25\n",
       "Name: item_price, dtype: float64"
      ]
     },
     "metadata": {},
     "execution_count": 112
    }
   ],
   "source": [
    "changes1 = lambda df : df.astype(\"float64\")\n",
    "chipo[\"item_price\"] = changes1(chipo[\"item_price\"].str.lstrip(\"$\"))\n",
    "chipo.sort_values(\"item_price\", inplace=True)\n",
    "chipo.drop_duplicates(subset=\"item_price\", keep=False, inplace=True)\n",
    "chipo.item_price"
   ]
  },
  {
   "cell_type": "code",
   "execution_count": 104,
   "metadata": {},
   "outputs": [
    {
     "output_type": "execute_result",
     "data": {
      "text/plain": [
       "'$1.99 $10.50 $11.49 $11.80 $12.98 $13.35 $13.52 $15.00 $16.38 $17.80 $22.20 $22.96 $26.07 $32.94 $33.75 $35.25 $4.36 $44.25 $5.07 $6.45 $7.50 $7.98 '"
      ]
     },
     "metadata": {},
     "execution_count": 104
    }
   ],
   "source": [
    "chipo.item_price.sum(\"quantity\" == 1)"
   ]
  },
  {
   "cell_type": "code",
   "execution_count": 105,
   "metadata": {
    "collapsed": false
   },
   "outputs": [],
   "source": [
    "# clean the item_price column and transform it in a float\n",
    "\n",
    "\n",
    "# reassign the column with the cleaned prices\n",
    "\n",
    "\n",
    "# delete the duplicates in item_name and quantity\n",
    "\n",
    "\n",
    "# select only the products with quantity equals to 1\n",
    "\n",
    "\n"
   ]
  },
  {
   "cell_type": "markdown",
   "metadata": {},
   "source": [
    "### Step 5. What is the price of each item? \n",
    "###### print a data frame with only two columns item_name and item_price"
   ]
  },
  {
   "cell_type": "code",
   "execution_count": 106,
   "metadata": {},
   "outputs": [
    {
     "output_type": "execute_result",
     "data": {
      "text/plain": [
       "4509                           Chips\n",
       "3599                   Bottled Water\n",
       "4510                   Barbacoa Bowl\n",
       "1257    Chips and Fresh Tomato Salsa\n",
       "3389               6 Pack Soft Drink\n",
       "2645             Chips and Guacamole\n",
       "3887                   Side of Chips\n",
       "4152                   Bottled Water\n",
       "3823                 Chicken Burrito\n",
       "4489             Chips and Guacamole\n",
       "445                             Bowl\n",
       "2954                   Steak Burrito\n",
       "3334                      Steak Bowl\n",
       "409                     Chicken Bowl\n",
       "3601                  Veggie Burrito\n",
       "3480                   Carnitas Bowl\n",
       "2235                     Canned Soda\n",
       "3598    Chips and Fresh Tomato Salsa\n",
       "2944                   Side of Chips\n",
       "2936                           Chips\n",
       "2441                   Bottled Water\n",
       "3040             Chips and Guacamole\n",
       "Name: item_name, dtype: object"
      ]
     },
     "metadata": {},
     "execution_count": 106
    }
   ],
   "source": [
    "chipo[\"item_name\"]"
   ]
  },
  {
   "cell_type": "code",
   "execution_count": 107,
   "metadata": {
    "collapsed": false
   },
   "outputs": [],
   "source": [
    "# delete the duplicates in item_name and quantity\n",
    "\n",
    "\n",
    "# select only the products with quantity equals to 1\n",
    "\n",
    "\n",
    "# select only the item_name and item_price columns\n",
    "\n",
    "\n",
    "# sort the values from the most to less expensive\n"
   ]
  },
  {
   "cell_type": "markdown",
   "metadata": {},
   "source": [
    "### Step 6. Sort by the name of the item"
   ]
  },
  {
   "cell_type": "code",
   "execution_count": 113,
   "metadata": {
    "collapsed": false
   },
   "outputs": [
    {
     "output_type": "execute_result",
     "data": {
      "text/plain": [
       "      order_id  quantity                     item_name  \\\n",
       "3389      1360         2             6 Pack Soft Drink   \n",
       "4510      1793         1                 Barbacoa Bowl   \n",
       "2441       970         5                 Bottled Water   \n",
       "3599      1443         7                 Bottled Water   \n",
       "4152      1660        10                 Bottled Water   \n",
       "445        193         3                          Bowl   \n",
       "2235       901         4                   Canned Soda   \n",
       "3480      1398         3                 Carnitas Bowl   \n",
       "409        178         3                  Chicken Bowl   \n",
       "3823      1533         2               Chicken Burrito   \n",
       "4509      1793         1                         Chips   \n",
       "2936      1167         3                         Chips   \n",
       "3598      1443        15  Chips and Fresh Tomato Salsa   \n",
       "1257       511         4  Chips and Fresh Tomato Salsa   \n",
       "4489      1786         4           Chips and Guacamole   \n",
       "3040      1210         2           Chips and Guacamole   \n",
       "2645      1051         3           Chips and Guacamole   \n",
       "2944      1170         3                 Side of Chips   \n",
       "3887      1559         8                 Side of Chips   \n",
       "3334      1336         3                    Steak Bowl   \n",
       "2954      1175         2                 Steak Burrito   \n",
       "3601      1443         3                Veggie Burrito   \n",
       "\n",
       "                                     choice_description  item_price  \n",
       "3389                                        [Diet Coke]       12.98  \n",
       "4510                                        [Guacamole]       11.49  \n",
       "2441                                                NaN        7.50  \n",
       "3599                                                NaN       10.50  \n",
       "4152                                                NaN       15.00  \n",
       "445   [Braised Carnitas, Pinto Beans, [Sour Cream, C...       22.20  \n",
       "2235                                           [Sprite]        4.36  \n",
       "3480  [Roasted Chili Corn Salsa, [Fajita Vegetables,...       35.25  \n",
       "409   [[Fresh Tomato Salsa (Mild), Tomatillo-Green C...       32.94  \n",
       "3823                                  [[Lettuce, Rice]]       16.38  \n",
       "4509                                                NaN        1.99  \n",
       "2936                                                NaN        6.45  \n",
       "3598                                                NaN       44.25  \n",
       "1257                                                NaN       11.80  \n",
       "4489                                                NaN       17.80  \n",
       "3040                                                NaN        7.98  \n",
       "2645                                                NaN       13.35  \n",
       "2944                                                NaN        5.07  \n",
       "3887                                                NaN       13.52  \n",
       "3334  [Tomatillo Green Chili (Medium), [Rice, Black ...       26.07  \n",
       "2954  [[Tomatillo-Green Chili Salsa (Medium), Roaste...       22.96  \n",
       "3601  [Fresh Tomato Salsa, [Fajita Vegetables, Rice,...       33.75  "
      ],
      "text/html": "<div>\n<style scoped>\n    .dataframe tbody tr th:only-of-type {\n        vertical-align: middle;\n    }\n\n    .dataframe tbody tr th {\n        vertical-align: top;\n    }\n\n    .dataframe thead th {\n        text-align: right;\n    }\n</style>\n<table border=\"1\" class=\"dataframe\">\n  <thead>\n    <tr style=\"text-align: right;\">\n      <th></th>\n      <th>order_id</th>\n      <th>quantity</th>\n      <th>item_name</th>\n      <th>choice_description</th>\n      <th>item_price</th>\n    </tr>\n  </thead>\n  <tbody>\n    <tr>\n      <th>3389</th>\n      <td>1360</td>\n      <td>2</td>\n      <td>6 Pack Soft Drink</td>\n      <td>[Diet Coke]</td>\n      <td>12.98</td>\n    </tr>\n    <tr>\n      <th>4510</th>\n      <td>1793</td>\n      <td>1</td>\n      <td>Barbacoa Bowl</td>\n      <td>[Guacamole]</td>\n      <td>11.49</td>\n    </tr>\n    <tr>\n      <th>2441</th>\n      <td>970</td>\n      <td>5</td>\n      <td>Bottled Water</td>\n      <td>NaN</td>\n      <td>7.50</td>\n    </tr>\n    <tr>\n      <th>3599</th>\n      <td>1443</td>\n      <td>7</td>\n      <td>Bottled Water</td>\n      <td>NaN</td>\n      <td>10.50</td>\n    </tr>\n    <tr>\n      <th>4152</th>\n      <td>1660</td>\n      <td>10</td>\n      <td>Bottled Water</td>\n      <td>NaN</td>\n      <td>15.00</td>\n    </tr>\n    <tr>\n      <th>445</th>\n      <td>193</td>\n      <td>3</td>\n      <td>Bowl</td>\n      <td>[Braised Carnitas, Pinto Beans, [Sour Cream, C...</td>\n      <td>22.20</td>\n    </tr>\n    <tr>\n      <th>2235</th>\n      <td>901</td>\n      <td>4</td>\n      <td>Canned Soda</td>\n      <td>[Sprite]</td>\n      <td>4.36</td>\n    </tr>\n    <tr>\n      <th>3480</th>\n      <td>1398</td>\n      <td>3</td>\n      <td>Carnitas Bowl</td>\n      <td>[Roasted Chili Corn Salsa, [Fajita Vegetables,...</td>\n      <td>35.25</td>\n    </tr>\n    <tr>\n      <th>409</th>\n      <td>178</td>\n      <td>3</td>\n      <td>Chicken Bowl</td>\n      <td>[[Fresh Tomato Salsa (Mild), Tomatillo-Green C...</td>\n      <td>32.94</td>\n    </tr>\n    <tr>\n      <th>3823</th>\n      <td>1533</td>\n      <td>2</td>\n      <td>Chicken Burrito</td>\n      <td>[[Lettuce, Rice]]</td>\n      <td>16.38</td>\n    </tr>\n    <tr>\n      <th>4509</th>\n      <td>1793</td>\n      <td>1</td>\n      <td>Chips</td>\n      <td>NaN</td>\n      <td>1.99</td>\n    </tr>\n    <tr>\n      <th>2936</th>\n      <td>1167</td>\n      <td>3</td>\n      <td>Chips</td>\n      <td>NaN</td>\n      <td>6.45</td>\n    </tr>\n    <tr>\n      <th>3598</th>\n      <td>1443</td>\n      <td>15</td>\n      <td>Chips and Fresh Tomato Salsa</td>\n      <td>NaN</td>\n      <td>44.25</td>\n    </tr>\n    <tr>\n      <th>1257</th>\n      <td>511</td>\n      <td>4</td>\n      <td>Chips and Fresh Tomato Salsa</td>\n      <td>NaN</td>\n      <td>11.80</td>\n    </tr>\n    <tr>\n      <th>4489</th>\n      <td>1786</td>\n      <td>4</td>\n      <td>Chips and Guacamole</td>\n      <td>NaN</td>\n      <td>17.80</td>\n    </tr>\n    <tr>\n      <th>3040</th>\n      <td>1210</td>\n      <td>2</td>\n      <td>Chips and Guacamole</td>\n      <td>NaN</td>\n      <td>7.98</td>\n    </tr>\n    <tr>\n      <th>2645</th>\n      <td>1051</td>\n      <td>3</td>\n      <td>Chips and Guacamole</td>\n      <td>NaN</td>\n      <td>13.35</td>\n    </tr>\n    <tr>\n      <th>2944</th>\n      <td>1170</td>\n      <td>3</td>\n      <td>Side of Chips</td>\n      <td>NaN</td>\n      <td>5.07</td>\n    </tr>\n    <tr>\n      <th>3887</th>\n      <td>1559</td>\n      <td>8</td>\n      <td>Side of Chips</td>\n      <td>NaN</td>\n      <td>13.52</td>\n    </tr>\n    <tr>\n      <th>3334</th>\n      <td>1336</td>\n      <td>3</td>\n      <td>Steak Bowl</td>\n      <td>[Tomatillo Green Chili (Medium), [Rice, Black ...</td>\n      <td>26.07</td>\n    </tr>\n    <tr>\n      <th>2954</th>\n      <td>1175</td>\n      <td>2</td>\n      <td>Steak Burrito</td>\n      <td>[[Tomatillo-Green Chili Salsa (Medium), Roaste...</td>\n      <td>22.96</td>\n    </tr>\n    <tr>\n      <th>3601</th>\n      <td>1443</td>\n      <td>3</td>\n      <td>Veggie Burrito</td>\n      <td>[Fresh Tomato Salsa, [Fajita Vegetables, Rice,...</td>\n      <td>33.75</td>\n    </tr>\n  </tbody>\n</table>\n</div>"
     },
     "metadata": {},
     "execution_count": 113
    }
   ],
   "source": [
    "\n",
    "chipo.sort_values([\"item_name\"])\n",
    "\n",
    "# OR\n",
    "\n"
   ]
  },
  {
   "cell_type": "markdown",
   "metadata": {},
   "source": [
    "### Step 7. What was the quantity of the most expensive item ordered?"
   ]
  },
  {
   "cell_type": "code",
   "execution_count": 115,
   "metadata": {},
   "outputs": [
    {
     "output_type": "execute_result",
     "data": {
      "text/plain": [
       "      order_id  quantity                     item_name choice_description  \\\n",
       "3598      1443        15  Chips and Fresh Tomato Salsa                NaN   \n",
       "\n",
       "      item_price  \n",
       "3598       44.25  "
      ],
      "text/html": "<div>\n<style scoped>\n    .dataframe tbody tr th:only-of-type {\n        vertical-align: middle;\n    }\n\n    .dataframe tbody tr th {\n        vertical-align: top;\n    }\n\n    .dataframe thead th {\n        text-align: right;\n    }\n</style>\n<table border=\"1\" class=\"dataframe\">\n  <thead>\n    <tr style=\"text-align: right;\">\n      <th></th>\n      <th>order_id</th>\n      <th>quantity</th>\n      <th>item_name</th>\n      <th>choice_description</th>\n      <th>item_price</th>\n    </tr>\n  </thead>\n  <tbody>\n    <tr>\n      <th>3598</th>\n      <td>1443</td>\n      <td>15</td>\n      <td>Chips and Fresh Tomato Salsa</td>\n      <td>NaN</td>\n      <td>44.25</td>\n    </tr>\n  </tbody>\n</table>\n</div>"
     },
     "metadata": {},
     "execution_count": 115
    }
   ],
   "source": [
    "chipo.sort_values([\"item_price\"]).tail(1)"
   ]
  },
  {
   "cell_type": "code",
   "execution_count": 26,
   "metadata": {
    "collapsed": false
   },
   "outputs": [
    {
     "data": {
      "text/html": [
       "<div>\n",
       "<table border=\"1\" class=\"dataframe\">\n",
       "  <thead>\n",
       "    <tr style=\"text-align: right;\">\n",
       "      <th></th>\n",
       "      <th>order_id</th>\n",
       "      <th>quantity</th>\n",
       "      <th>item_name</th>\n",
       "      <th>choice_description</th>\n",
       "      <th>item_price</th>\n",
       "    </tr>\n",
       "  </thead>\n",
       "  <tbody>\n",
       "    <tr>\n",
       "      <th>3598</th>\n",
       "      <td>1443</td>\n",
       "      <td>15</td>\n",
       "      <td>Chips and Fresh Tomato Salsa</td>\n",
       "      <td>NaN</td>\n",
       "      <td>44.25</td>\n",
       "    </tr>\n",
       "  </tbody>\n",
       "</table>\n",
       "</div>"
      ],
      "text/plain": [
       "      order_id  quantity                     item_name choice_description  \\\n",
       "3598      1443        15  Chips and Fresh Tomato Salsa                NaN   \n",
       "\n",
       "      item_price  \n",
       "3598       44.25  "
      ]
     },
     "execution_count": 26,
     "metadata": {},
     "output_type": "execute_result"
    }
   ],
   "source": []
  },
  {
   "cell_type": "markdown",
   "metadata": {},
   "source": [
    "### Step 8. How many times was a Veggie Salad Bowl ordered?"
   ]
  },
  {
   "cell_type": "code",
   "execution_count": 117,
   "metadata": {
    "collapsed": false
   },
   "outputs": [
    {
     "output_type": "execute_result",
     "data": {
      "text/plain": [
       "      order_id  quantity                     item_name  \\\n",
       "4509      1793         1                         Chips   \n",
       "2235       901         4                   Canned Soda   \n",
       "2944      1170         3                 Side of Chips   \n",
       "2936      1167         3                         Chips   \n",
       "2441       970         5                 Bottled Water   \n",
       "3040      1210         2           Chips and Guacamole   \n",
       "3599      1443         7                 Bottled Water   \n",
       "4510      1793         1                 Barbacoa Bowl   \n",
       "1257       511         4  Chips and Fresh Tomato Salsa   \n",
       "3389      1360         2             6 Pack Soft Drink   \n",
       "2645      1051         3           Chips and Guacamole   \n",
       "3887      1559         8                 Side of Chips   \n",
       "4152      1660        10                 Bottled Water   \n",
       "3823      1533         2               Chicken Burrito   \n",
       "4489      1786         4           Chips and Guacamole   \n",
       "445        193         3                          Bowl   \n",
       "2954      1175         2                 Steak Burrito   \n",
       "3334      1336         3                    Steak Bowl   \n",
       "409        178         3                  Chicken Bowl   \n",
       "3601      1443         3                Veggie Burrito   \n",
       "3480      1398         3                 Carnitas Bowl   \n",
       "3598      1443        15  Chips and Fresh Tomato Salsa   \n",
       "\n",
       "                                     choice_description  item_price  \n",
       "4509                                                NaN        1.99  \n",
       "2235                                           [Sprite]        4.36  \n",
       "2944                                                NaN        5.07  \n",
       "2936                                                NaN        6.45  \n",
       "2441                                                NaN        7.50  \n",
       "3040                                                NaN        7.98  \n",
       "3599                                                NaN       10.50  \n",
       "4510                                        [Guacamole]       11.49  \n",
       "1257                                                NaN       11.80  \n",
       "3389                                        [Diet Coke]       12.98  \n",
       "2645                                                NaN       13.35  \n",
       "3887                                                NaN       13.52  \n",
       "4152                                                NaN       15.00  \n",
       "3823                                  [[Lettuce, Rice]]       16.38  \n",
       "4489                                                NaN       17.80  \n",
       "445   [Braised Carnitas, Pinto Beans, [Sour Cream, C...       22.20  \n",
       "2954  [[Tomatillo-Green Chili Salsa (Medium), Roaste...       22.96  \n",
       "3334  [Tomatillo Green Chili (Medium), [Rice, Black ...       26.07  \n",
       "409   [[Fresh Tomato Salsa (Mild), Tomatillo-Green C...       32.94  \n",
       "3601  [Fresh Tomato Salsa, [Fajita Vegetables, Rice,...       33.75  \n",
       "3480  [Roasted Chili Corn Salsa, [Fajita Vegetables,...       35.25  \n",
       "3598                                                NaN       44.25  "
      ],
      "text/html": "<div>\n<style scoped>\n    .dataframe tbody tr th:only-of-type {\n        vertical-align: middle;\n    }\n\n    .dataframe tbody tr th {\n        vertical-align: top;\n    }\n\n    .dataframe thead th {\n        text-align: right;\n    }\n</style>\n<table border=\"1\" class=\"dataframe\">\n  <thead>\n    <tr style=\"text-align: right;\">\n      <th></th>\n      <th>order_id</th>\n      <th>quantity</th>\n      <th>item_name</th>\n      <th>choice_description</th>\n      <th>item_price</th>\n    </tr>\n  </thead>\n  <tbody>\n    <tr>\n      <th>4509</th>\n      <td>1793</td>\n      <td>1</td>\n      <td>Chips</td>\n      <td>NaN</td>\n      <td>1.99</td>\n    </tr>\n    <tr>\n      <th>2235</th>\n      <td>901</td>\n      <td>4</td>\n      <td>Canned Soda</td>\n      <td>[Sprite]</td>\n      <td>4.36</td>\n    </tr>\n    <tr>\n      <th>2944</th>\n      <td>1170</td>\n      <td>3</td>\n      <td>Side of Chips</td>\n      <td>NaN</td>\n      <td>5.07</td>\n    </tr>\n    <tr>\n      <th>2936</th>\n      <td>1167</td>\n      <td>3</td>\n      <td>Chips</td>\n      <td>NaN</td>\n      <td>6.45</td>\n    </tr>\n    <tr>\n      <th>2441</th>\n      <td>970</td>\n      <td>5</td>\n      <td>Bottled Water</td>\n      <td>NaN</td>\n      <td>7.50</td>\n    </tr>\n    <tr>\n      <th>3040</th>\n      <td>1210</td>\n      <td>2</td>\n      <td>Chips and Guacamole</td>\n      <td>NaN</td>\n      <td>7.98</td>\n    </tr>\n    <tr>\n      <th>3599</th>\n      <td>1443</td>\n      <td>7</td>\n      <td>Bottled Water</td>\n      <td>NaN</td>\n      <td>10.50</td>\n    </tr>\n    <tr>\n      <th>4510</th>\n      <td>1793</td>\n      <td>1</td>\n      <td>Barbacoa Bowl</td>\n      <td>[Guacamole]</td>\n      <td>11.49</td>\n    </tr>\n    <tr>\n      <th>1257</th>\n      <td>511</td>\n      <td>4</td>\n      <td>Chips and Fresh Tomato Salsa</td>\n      <td>NaN</td>\n      <td>11.80</td>\n    </tr>\n    <tr>\n      <th>3389</th>\n      <td>1360</td>\n      <td>2</td>\n      <td>6 Pack Soft Drink</td>\n      <td>[Diet Coke]</td>\n      <td>12.98</td>\n    </tr>\n    <tr>\n      <th>2645</th>\n      <td>1051</td>\n      <td>3</td>\n      <td>Chips and Guacamole</td>\n      <td>NaN</td>\n      <td>13.35</td>\n    </tr>\n    <tr>\n      <th>3887</th>\n      <td>1559</td>\n      <td>8</td>\n      <td>Side of Chips</td>\n      <td>NaN</td>\n      <td>13.52</td>\n    </tr>\n    <tr>\n      <th>4152</th>\n      <td>1660</td>\n      <td>10</td>\n      <td>Bottled Water</td>\n      <td>NaN</td>\n      <td>15.00</td>\n    </tr>\n    <tr>\n      <th>3823</th>\n      <td>1533</td>\n      <td>2</td>\n      <td>Chicken Burrito</td>\n      <td>[[Lettuce, Rice]]</td>\n      <td>16.38</td>\n    </tr>\n    <tr>\n      <th>4489</th>\n      <td>1786</td>\n      <td>4</td>\n      <td>Chips and Guacamole</td>\n      <td>NaN</td>\n      <td>17.80</td>\n    </tr>\n    <tr>\n      <th>445</th>\n      <td>193</td>\n      <td>3</td>\n      <td>Bowl</td>\n      <td>[Braised Carnitas, Pinto Beans, [Sour Cream, C...</td>\n      <td>22.20</td>\n    </tr>\n    <tr>\n      <th>2954</th>\n      <td>1175</td>\n      <td>2</td>\n      <td>Steak Burrito</td>\n      <td>[[Tomatillo-Green Chili Salsa (Medium), Roaste...</td>\n      <td>22.96</td>\n    </tr>\n    <tr>\n      <th>3334</th>\n      <td>1336</td>\n      <td>3</td>\n      <td>Steak Bowl</td>\n      <td>[Tomatillo Green Chili (Medium), [Rice, Black ...</td>\n      <td>26.07</td>\n    </tr>\n    <tr>\n      <th>409</th>\n      <td>178</td>\n      <td>3</td>\n      <td>Chicken Bowl</td>\n      <td>[[Fresh Tomato Salsa (Mild), Tomatillo-Green C...</td>\n      <td>32.94</td>\n    </tr>\n    <tr>\n      <th>3601</th>\n      <td>1443</td>\n      <td>3</td>\n      <td>Veggie Burrito</td>\n      <td>[Fresh Tomato Salsa, [Fajita Vegetables, Rice,...</td>\n      <td>33.75</td>\n    </tr>\n    <tr>\n      <th>3480</th>\n      <td>1398</td>\n      <td>3</td>\n      <td>Carnitas Bowl</td>\n      <td>[Roasted Chili Corn Salsa, [Fajita Vegetables,...</td>\n      <td>35.25</td>\n    </tr>\n    <tr>\n      <th>3598</th>\n      <td>1443</td>\n      <td>15</td>\n      <td>Chips and Fresh Tomato Salsa</td>\n      <td>NaN</td>\n      <td>44.25</td>\n    </tr>\n  </tbody>\n</table>\n</div>"
     },
     "metadata": {},
     "execution_count": 117
    }
   ],
   "source": [
    "chipo.groupby([\"item_name\"])\n",
    "chipo"
   ]
  },
  {
   "cell_type": "markdown",
   "metadata": {},
   "source": [
    "### Step 9. How many times did someone order more than one Canned Soda?"
   ]
  },
  {
   "cell_type": "code",
   "execution_count": 28,
   "metadata": {
    "collapsed": false
   },
   "outputs": [
    {
     "data": {
      "text/plain": [
       "20"
      ]
     },
     "execution_count": 28,
     "metadata": {},
     "output_type": "execute_result"
    }
   ],
   "source": []
  }
 ],
 "metadata": {
  "anaconda-cloud": {},
  "kernelspec": {
   "name": "python3",
   "display_name": "Python 3.9.0 64-bit",
   "metadata": {
    "interpreter": {
     "hash": "c49414725a10925ce64f1a7c91399f6a4823416942062340df486dba231dfa6d"
    }
   }
  },
  "language_info": {
   "codemirror_mode": {
    "name": "ipython",
    "version": 2
   },
   "file_extension": ".py",
   "mimetype": "text/x-python",
   "name": "python",
   "nbconvert_exporter": "python",
   "pygments_lexer": "ipython2",
   "version": "3.9.0-final"
  }
 },
 "nbformat": 4,
 "nbformat_minor": 0
}